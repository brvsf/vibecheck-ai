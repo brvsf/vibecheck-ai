{
 "cells": [
  {
   "cell_type": "markdown",
   "metadata": {},
   "source": [
    "# VibeCheck-AI"
   ]
  },
  {
   "cell_type": "markdown",
   "metadata": {},
   "source": [
    "[Dataset](\"https://www.kaggle.com/datasets/kushagra3204/sentiment-and-emotion-analysis-dataset\")"
   ]
  },
  {
   "cell_type": "code",
   "execution_count": 1,
   "metadata": {},
   "outputs": [],
   "source": [
    "import numpy as np\n",
    "import pandas as pd\n",
    "import matplotlib.pyplot as plt\n",
    "import seaborn as sns\n",
    "\n",
    "import string"
   ]
  },
  {
   "cell_type": "markdown",
   "metadata": {},
   "source": [
    "## Exploratory Analysis"
   ]
  },
  {
   "cell_type": "code",
   "execution_count": 2,
   "metadata": {},
   "outputs": [
    {
     "name": "stdout",
     "output_type": "stream",
     "text": [
      "(422746, 2) (3309, 2)\n"
     ]
    }
   ],
   "source": [
    "df_combined_emotion = pd.read_csv('raw_data/combined_emotion.csv')\n",
    "df_combined_sentiment = pd.read_csv('raw_data/combined_sentiment_data.csv')\n",
    "\n",
    "print(df_combined_emotion.shape, df_combined_sentiment.shape)"
   ]
  },
  {
   "cell_type": "code",
   "execution_count": 3,
   "metadata": {},
   "outputs": [
    {
     "name": "stdout",
     "output_type": "stream",
     "text": [
      "Combined Emotion Dataframe\n"
     ]
    },
    {
     "data": {
      "text/html": [
       "<div>\n",
       "<style scoped>\n",
       "    .dataframe tbody tr th:only-of-type {\n",
       "        vertical-align: middle;\n",
       "    }\n",
       "\n",
       "    .dataframe tbody tr th {\n",
       "        vertical-align: top;\n",
       "    }\n",
       "\n",
       "    .dataframe thead th {\n",
       "        text-align: right;\n",
       "    }\n",
       "</style>\n",
       "<table border=\"1\" class=\"dataframe\">\n",
       "  <thead>\n",
       "    <tr style=\"text-align: right;\">\n",
       "      <th></th>\n",
       "      <th>sentence</th>\n",
       "      <th>emotion</th>\n",
       "    </tr>\n",
       "  </thead>\n",
       "  <tbody>\n",
       "    <tr>\n",
       "      <th>0</th>\n",
       "      <td>i just feel really helpless and heavy hearted</td>\n",
       "      <td>fear</td>\n",
       "    </tr>\n",
       "    <tr>\n",
       "      <th>1</th>\n",
       "      <td>ive enjoyed being able to slouch about relax a...</td>\n",
       "      <td>sad</td>\n",
       "    </tr>\n",
       "    <tr>\n",
       "      <th>2</th>\n",
       "      <td>i gave up my internship with the dmrg and am f...</td>\n",
       "      <td>fear</td>\n",
       "    </tr>\n",
       "    <tr>\n",
       "      <th>3</th>\n",
       "      <td>i dont know i feel so lost</td>\n",
       "      <td>sad</td>\n",
       "    </tr>\n",
       "    <tr>\n",
       "      <th>4</th>\n",
       "      <td>i am a kindergarten teacher and i am thoroughl...</td>\n",
       "      <td>fear</td>\n",
       "    </tr>\n",
       "    <tr>\n",
       "      <th>5</th>\n",
       "      <td>i was beginning to feel quite disheartened</td>\n",
       "      <td>sad</td>\n",
       "    </tr>\n",
       "    <tr>\n",
       "      <th>6</th>\n",
       "      <td>i would think that whomever would be lucky eno...</td>\n",
       "      <td>love</td>\n",
       "    </tr>\n",
       "    <tr>\n",
       "      <th>7</th>\n",
       "      <td>i fear that they won t ever feel that deliciou...</td>\n",
       "      <td>joy</td>\n",
       "    </tr>\n",
       "    <tr>\n",
       "      <th>8</th>\n",
       "      <td>im forever taking some time out to have a lie ...</td>\n",
       "      <td>suprise</td>\n",
       "    </tr>\n",
       "    <tr>\n",
       "      <th>9</th>\n",
       "      <td>i can still lose the weight without feeling de...</td>\n",
       "      <td>sad</td>\n",
       "    </tr>\n",
       "  </tbody>\n",
       "</table>\n",
       "</div>"
      ],
      "text/plain": [
       "                                            sentence  emotion\n",
       "0      i just feel really helpless and heavy hearted     fear\n",
       "1  ive enjoyed being able to slouch about relax a...      sad\n",
       "2  i gave up my internship with the dmrg and am f...     fear\n",
       "3                         i dont know i feel so lost      sad\n",
       "4  i am a kindergarten teacher and i am thoroughl...     fear\n",
       "5         i was beginning to feel quite disheartened      sad\n",
       "6  i would think that whomever would be lucky eno...     love\n",
       "7  i fear that they won t ever feel that deliciou...      joy\n",
       "8  im forever taking some time out to have a lie ...  suprise\n",
       "9  i can still lose the weight without feeling de...      sad"
      ]
     },
     "execution_count": 3,
     "metadata": {},
     "output_type": "execute_result"
    }
   ],
   "source": [
    "print(\"Combined Emotion Dataframe\")\n",
    "df_combined_emotion.head(10)"
   ]
  },
  {
   "cell_type": "code",
   "execution_count": 4,
   "metadata": {},
   "outputs": [
    {
     "name": "stdout",
     "output_type": "stream",
     "text": [
      "Combined Sentiment Dataframe\n"
     ]
    },
    {
     "data": {
      "text/html": [
       "<div>\n",
       "<style scoped>\n",
       "    .dataframe tbody tr th:only-of-type {\n",
       "        vertical-align: middle;\n",
       "    }\n",
       "\n",
       "    .dataframe tbody tr th {\n",
       "        vertical-align: top;\n",
       "    }\n",
       "\n",
       "    .dataframe thead th {\n",
       "        text-align: right;\n",
       "    }\n",
       "</style>\n",
       "<table border=\"1\" class=\"dataframe\">\n",
       "  <thead>\n",
       "    <tr style=\"text-align: right;\">\n",
       "      <th></th>\n",
       "      <th>sentence</th>\n",
       "      <th>sentiment</th>\n",
       "    </tr>\n",
       "  </thead>\n",
       "  <tbody>\n",
       "    <tr>\n",
       "      <th>0</th>\n",
       "      <td>So there is no way for me to plug it in here i...</td>\n",
       "      <td>negative</td>\n",
       "    </tr>\n",
       "    <tr>\n",
       "      <th>1</th>\n",
       "      <td>Good case, Excellent value.</td>\n",
       "      <td>positive</td>\n",
       "    </tr>\n",
       "    <tr>\n",
       "      <th>2</th>\n",
       "      <td>Great for the jawbone.</td>\n",
       "      <td>positive</td>\n",
       "    </tr>\n",
       "    <tr>\n",
       "      <th>3</th>\n",
       "      <td>Tied to charger for conversations lasting more...</td>\n",
       "      <td>negative</td>\n",
       "    </tr>\n",
       "    <tr>\n",
       "      <th>4</th>\n",
       "      <td>The mic is great.</td>\n",
       "      <td>positive</td>\n",
       "    </tr>\n",
       "    <tr>\n",
       "      <th>5</th>\n",
       "      <td>I have to jiggle the plug to get it to line up...</td>\n",
       "      <td>negative</td>\n",
       "    </tr>\n",
       "    <tr>\n",
       "      <th>6</th>\n",
       "      <td>If you have several dozen or several hundred c...</td>\n",
       "      <td>negative</td>\n",
       "    </tr>\n",
       "    <tr>\n",
       "      <th>7</th>\n",
       "      <td>If you are Razr owner...you must have this!</td>\n",
       "      <td>positive</td>\n",
       "    </tr>\n",
       "    <tr>\n",
       "      <th>8</th>\n",
       "      <td>Needless to say, I wasted my money.</td>\n",
       "      <td>negative</td>\n",
       "    </tr>\n",
       "    <tr>\n",
       "      <th>9</th>\n",
       "      <td>What a waste of money and time!.</td>\n",
       "      <td>negative</td>\n",
       "    </tr>\n",
       "  </tbody>\n",
       "</table>\n",
       "</div>"
      ],
      "text/plain": [
       "                                            sentence sentiment\n",
       "0  So there is no way for me to plug it in here i...  negative\n",
       "1                        Good case, Excellent value.  positive\n",
       "2                             Great for the jawbone.  positive\n",
       "3  Tied to charger for conversations lasting more...  negative\n",
       "4                                  The mic is great.  positive\n",
       "5  I have to jiggle the plug to get it to line up...  negative\n",
       "6  If you have several dozen or several hundred c...  negative\n",
       "7        If you are Razr owner...you must have this!  positive\n",
       "8                Needless to say, I wasted my money.  negative\n",
       "9                   What a waste of money and time!.  negative"
      ]
     },
     "execution_count": 4,
     "metadata": {},
     "output_type": "execute_result"
    }
   ],
   "source": [
    "print(\"Combined Sentiment Dataframe\")\n",
    "df_combined_sentiment.head(10)"
   ]
  },
  {
   "cell_type": "code",
   "execution_count": 5,
   "metadata": {},
   "outputs": [],
   "source": [
    "# We dont want the combined sentiment dataset\n",
    "del(df_combined_sentiment)\n",
    "del(df_combined_emotion)"
   ]
  },
  {
   "cell_type": "code",
   "execution_count": 6,
   "metadata": {},
   "outputs": [
    {
     "data": {
      "text/plain": [
       "np.int64(6623)"
      ]
     },
     "execution_count": 6,
     "metadata": {},
     "output_type": "execute_result"
    }
   ],
   "source": [
    "df = pd.read_csv(\"raw_data/combined_emotion.csv\")\n",
    "df.duplicated().sum()"
   ]
  },
  {
   "cell_type": "code",
   "execution_count": 7,
   "metadata": {},
   "outputs": [
    {
     "name": "stdout",
     "output_type": "stream",
     "text": [
      "Shape before droping duplcates: (422746, 2)\n",
      "----------------------------------------------------------------------------------------------------\n",
      "Shape after droping duplcates: (416123, 2)\n"
     ]
    }
   ],
   "source": [
    "print(f\"Shape before droping duplcates: {df.shape}\")\n",
    "df.drop_duplicates(inplace=True)\n",
    "df.duplicated().sum()\n",
    "print(\"-\"*100)\n",
    "print(f\"Shape after droping duplcates: {df.shape}\")"
   ]
  },
  {
   "cell_type": "code",
   "execution_count": 8,
   "metadata": {},
   "outputs": [
    {
     "data": {
      "text/plain": [
       "emotion\n",
       "joy        140779\n",
       "sad        120989\n",
       "anger       57235\n",
       "fear        47664\n",
       "love        34497\n",
       "suprise     14959\n",
       "Name: count, dtype: int64"
      ]
     },
     "execution_count": 8,
     "metadata": {},
     "output_type": "execute_result"
    }
   ],
   "source": [
    "# Emotions distribution in absolute values\n",
    "df['emotion'].value_counts()"
   ]
  },
  {
   "cell_type": "code",
   "execution_count": 9,
   "metadata": {},
   "outputs": [
    {
     "data": {
      "text/plain": [
       "emotion\n",
       "joy        0.338\n",
       "sad        0.291\n",
       "anger      0.138\n",
       "fear       0.115\n",
       "love       0.083\n",
       "suprise    0.036\n",
       "Name: proportion, dtype: float64"
      ]
     },
     "execution_count": 9,
     "metadata": {},
     "output_type": "execute_result"
    }
   ],
   "source": [
    "# Emotions distribution in percentage\n",
    "df['emotion'].value_counts(normalize=True).round(3)"
   ]
  },
  {
   "cell_type": "code",
   "execution_count": 10,
   "metadata": {},
   "outputs": [
    {
     "data": {
      "image/png": "[encoded data removed]",
      "text/plain": [
       "<Figure size 640x480 with 1 Axes>"
      ]
     },
     "metadata": {},
     "output_type": "display_data"
    }
   ],
   "source": [
    "sns.countplot(x = df['emotion']);"
   ]
  },
  {
   "cell_type": "code",
   "execution_count": 11,
   "metadata": {},
   "outputs": [],
   "source": [
    "# Balancing classes\n",
    "emotions = list(df['emotion'].unique())\n",
    "samples = {}\n",
    "\n",
    "for emotion in emotions:\n",
    "    if emotion == 'surprise':\n",
    "        samples[emotion] = df[df['emotion'] == emotion]\n",
    "    else:\n",
    "        samples[emotion] = df[df['emotion'] == emotion].sample(14959)"
   ]
  },
  {
   "cell_type": "code",
   "execution_count": 12,
   "metadata": {},
   "outputs": [],
   "source": [
    "df_balanced = pd.concat((samples['sad'], samples['love'], \\\n",
    "    samples['joy'], samples['fear'], samples['anger'],samples['suprise']))"
   ]
  },
  {
   "cell_type": "code",
   "execution_count": 13,
   "metadata": {},
   "outputs": [
    {
     "name": "stdout",
     "output_type": "stream",
     "text": [
      "Unbalanced dataframe shape: (416123, 2)\n",
      "Balanced dataframe shape: (89754, 2)\n",
      "Columns lost: 326369\n"
     ]
    }
   ],
   "source": [
    "print(f\"Unbalanced dataframe shape: {df.shape}\")\n",
    "print(f\"Balanced dataframe shape: {df_balanced.shape}\")\n",
    "print(f\"Columns lost: {df.shape[0]-df_balanced.shape[0]}\")"
   ]
  },
  {
   "cell_type": "code",
   "execution_count": 14,
   "metadata": {},
   "outputs": [
    {
     "data": {
      "image/png": "[encoded data removed]",
      "text/plain": [
       "<Figure size 640x480 with 1 Axes>"
      ]
     },
     "metadata": {},
     "output_type": "display_data"
    }
   ],
   "source": [
    "sns.countplot(x = df_balanced['emotion']);"
   ]
  },
  {
   "cell_type": "markdown",
   "metadata": {},
   "source": [
    "## Preprocessing"
   ]
  },
  {
   "cell_type": "code",
   "execution_count": null,
   "metadata": {},
   "outputs": [],
   "source": [
    "class Preprocessing:\n",
    "    \"\"\"\n",
    "    A utility class for preprocessing textual data by applying various cleaning operations.\n",
    "    \"\"\"\n",
    "    PUNCTUATION = string.punctuation\n",
    "\n",
    "    @staticmethod\n",
    "    def to_lowercase(sentence):\n",
    "        \"\"\"\n",
    "        Convert all characters in the sentence to lowercase.\n",
    "\n",
    "        Args:\n",
    "            sentence (str): The input sentence.\n",
    "\n",
    "        Returns:\n",
    "            str: The sentence with all characters in lowercase.\n",
    "        \"\"\"\n",
    "        if not isinstance(sentence, str):\n",
    "            raise ValueError(\"Input must be a string\")\n",
    "        return sentence.lower()\n",
    "\n",
    "    @staticmethod\n",
    "    def remove_numbers(sentence):\n",
    "        \"\"\"\n",
    "        Remove all numeric characters from the sentence.\n",
    "\n",
    "        Args:\n",
    "            sentence (str): The input sentence.\n",
    "\n",
    "        Returns:\n",
    "            str: The sentence without numeric characters.\n",
    "        \"\"\"\n",
    "        if not isinstance(sentence, str):\n",
    "            raise ValueError(\"Input must be a string\")\n",
    "        return ''.join(char for char in sentence if not char.isdigit())\n",
    "\n",
    "    @staticmethod\n",
    "    def remove_punctuation(sentence):\n",
    "        \"\"\"\n",
    "        Remove all punctuation characters from the sentence.\n",
    "\n",
    "        Args:\n",
    "            sentence (str): The input sentence.\n",
    "\n",
    "        Returns:\n",
    "            str: The sentence without punctuation.\n",
    "        \"\"\"\n",
    "        if not isinstance(sentence, str):\n",
    "            raise ValueError(\"Input must be a string\")\n",
    "        return ''.join(char for char in sentence if char not in Preprocessing.PUNCTUATION)\n",
    "\n",
    "    @staticmethod\n",
    "    def strip_spaces(sentence):\n",
    "        \"\"\"\n",
    "        Remove leading and trailing spaces from the sentence.\n",
    "\n",
    "        Args:\n",
    "            sentence (str): The input sentence.\n",
    "\n",
    "        Returns:\n",
    "            str: The sentence without leading and trailing spaces.\n",
    "        \"\"\"\n",
    "        if not isinstance(sentence, str):\n",
    "            raise ValueError(\"Input must be a string\")\n",
    "        return sentence.strip()\n",
    "\n",
    "    @classmethod\n",
    "    def full_cleaning(cls, sentence):\n",
    "        \"\"\"\n",
    "        Apply all preprocessing steps: lowercase conversion,\n",
    "        removal of numbers, punctuation, and extra spaces.\n",
    "\n",
    "        Args:\n",
    "            sentence (str): The input sentence.\n",
    "\n",
    "        Returns:\n",
    "            str: The fully cleaned sentence.\n",
    "        \"\"\"\n",
    "        if not isinstance(sentence, str):\n",
    "            raise ValueError(\"Input must be a string\")\n",
    "        sentence = cls.to_lowercase(sentence)\n",
    "        sentence = cls.remove_numbers(sentence)\n",
    "        sentence = cls.remove_punctuation(sentence)\n",
    "        sentence = cls.strip_spaces(sentence)\n",
    "        return sentence\n"
   ]
  }
 ],
 "metadata": {
  "kernelspec": {
   "display_name": "vibecheck-ai",
   "language": "python",
   "name": "python3"
  },
  "language_info": {
   "codemirror_mode": {
    "name": "ipython",
    "version": 3
   },
   "file_extension": ".py",
   "mimetype": "text/x-python",
   "name": "python",
   "nbconvert_exporter": "python",
   "pygments_lexer": "ipython3",
   "version": "3.10.6"
  }
 },
 "nbformat": 4,
 "nbformat_minor": 2
}
